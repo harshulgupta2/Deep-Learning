{
 "cells": [
  {
   "cell_type": "markdown",
   "metadata": {},
   "source": [
    "#### Import libraries and Enable GPU"
   ]
  },
  {
   "cell_type": "code",
   "execution_count": null,
   "metadata": {},
   "outputs": [],
   "source": [
    "import torch\n",
    "import torch.nn as nn\n",
    "import torchvision\n",
    "import torchvision.transforms as transforms\n",
    "import numpy as np\n",
    "from matplotlib import pyplot\n",
    "import MNISTtools\n",
    "import torch.utils.data as data_utils\n",
    "device = torch.device('cuda:0' if torch.cuda.is_available() else 'cpu')\n",
    "print(device)"
   ]
  },
  {
   "cell_type": "markdown",
   "metadata": {},
   "source": [
    "#### Import features and labels to numpy arrays. \n",
    "#### Normalize images between [-1,1] \n",
    "#### Convert labels to one-hot encoding "
   ]
  },
  {
   "cell_type": "code",
   "execution_count": null,
   "metadata": {},
   "outputs": [],
   "source": [
    "xtrain, ltrain = MNISTtools.load(dataset='training', path = '/datasets/MNIST')\n",
    "xtrain = np.transpose(xtrain)\n",
    "\n",
    "def normalize_MNIST_images(x):\n",
    "    x = x.astype(np.float32)\n",
    "    x = (x - 127.5)/127.5\n",
    "    return x\n",
    "\n",
    "xtrain = normalize_MNIST_images(xtrain).reshape(60000,1,28,28)\n",
    "\n",
    "\n",
    "def label2onehot(lbl):\n",
    "    d = np.zeros((lbl.max() + 1, lbl.size))\n",
    "    d[lbl[np.arange(0, lbl.size)], np.arange(0, lbl.size)] = 1\n",
    "    return d\n",
    "dtrain = label2onehot(ltrain)\n",
    "\n",
    "dtrain = np.transpose(dtrain)\n",
    "print(xtrain.shape)\n",
    "print(dtrain.shape)"
   ]
  },
  {
   "cell_type": "markdown",
   "metadata": {},
   "source": [
    "#### Load numpy arrays as tensors onto the GPU"
   ]
  },
  {
   "cell_type": "code",
   "execution_count": null,
   "metadata": {},
   "outputs": [],
   "source": [
    "img = torch.from_numpy(xtrain).float().to(device)\n",
    "lbl = torch.from_numpy(dtrain).float().to(device)\n",
    "'''Below is for mini batch gradient decent '''\n",
    "train = data_utils.TensorDataset(img,lbl)\n",
    "data_loader = data_utils.DataLoader(train, batch_size = 100, shuffle = True)\n",
    "print(img.size())\n",
    "print(lbl.size())\n",
    "print(type(img))\n",
    "print(type(lbl))"
   ]
  },
  {
   "cell_type": "markdown",
   "metadata": {},
   "source": [
    "#### Set the hyper parameters and define cross entropy loss"
   ]
  },
  {
   "cell_type": "code",
   "execution_count": null,
   "metadata": {},
   "outputs": [],
   "source": [
    "#Hyperparameters\n",
    "num_classes = 10\n",
    "num_epochs = 2\n",
    "batch_size = 500\n",
    "learning_rate = 0.001\n",
    "\n",
    "def cross_entropy(input, target):\n",
    "    logsoftmax = nn.LogSoftmax(dim = 1)\n",
    "    return torch.mean(torch.mean(-target * logsoftmax(input), dim=1))"
   ]
  },
  {
   "cell_type": "markdown",
   "metadata": {},
   "source": [
    "#### Initialize the model "
   ]
  },
  {
   "cell_type": "code",
   "execution_count": null,
   "metadata": {},
   "outputs": [],
   "source": [
    "# Convolutional neural network (two convolutional layers)\n",
    "class ConvNet(nn.Module):\n",
    "    def __init__(self, num_classes=10):\n",
    "        super(ConvNet, self).__init__()\n",
    "        self.layer1 = nn.Sequential(\n",
    "            nn.Conv2d(1, 16, kernel_size=5, stride=1, padding=1),\n",
    "            nn.BatchNorm2d(16),\n",
    "            nn.ReLU(),\n",
    "            nn.MaxPool2d(kernel_size=2, stride=2))\n",
    "        self.layer2 = nn.Sequential(\n",
    "            nn.Conv2d(16, 32, kernel_size=5, stride=1, padding=1),\n",
    "            nn.BatchNorm2d(32),\n",
    "            nn.ReLU(),\n",
    "            nn.MaxPool2d(kernel_size=2, stride=2))\n",
    "        self.layer3 = nn.Sequential(nn.Linear(5*5*32, num_classes),nn.Softmax() )\n",
    "        \n",
    "    def forward(self, x):\n",
    "        out = self.layer1(x)\n",
    "        out = self.layer2(out)\n",
    "        out = out.reshape(out.size(0), -1)\n",
    "        out = self.layer3(out)\n",
    "        return out\n",
    "\n",
    "model = ConvNet(num_classes).to(device)\n",
    "optimizer = torch.optim.Adam(model.parameters(), lr=learning_rate) "
   ]
  },
  {
   "cell_type": "markdown",
   "metadata": {},
   "source": [
    "#### Define miss classifications "
   ]
  },
  {
   "cell_type": "code",
   "execution_count": null,
   "metadata": {},
   "outputs": [],
   "source": [
    "def miss_classifications(yinit, lbl):\n",
    "    _, predicted = torch.max(yinit.data, 1)\n",
    "    miss_classifications = (predicted != torch.max(lbl.data, 1)[1]).sum().item()\n",
    "    return miss_classifications"
   ]
  },
  {
   "cell_type": "markdown",
   "metadata": {},
   "source": [
    "#### Model Training "
   ]
  },
  {
   "cell_type": "code",
   "execution_count": null,
   "metadata": {},
   "outputs": [],
   "source": [
    "for epoch in range(num_epochs):\n",
    "    mc = 0\n",
    "    for i, (images, labels) in enumerate(data_loader):\n",
    "        outputs = model(images)\n",
    "        loss = cross_entropy(outputs,labels)\n",
    "        optimizer.zero_grad()\n",
    "        loss.backward()\n",
    "        optimizer.step()\n",
    "        mc += miss_classifications(outputs, labels)\n",
    "        print ('Epoch: {}, Loss: {}'.format(epoch+1, loss.item()))\n",
    "    print(\"Miss Classifications:\", (mc/600))\n",
    "torch.cuda.empty_cache()"
   ]
  },
  {
   "cell_type": "code",
   "execution_count": null,
   "metadata": {},
   "outputs": [],
   "source": []
  }
 ],
 "metadata": {
  "kernelspec": {
   "display_name": "Python 2",
   "language": "python",
   "name": "python2"
  },
  "language_info": {
   "codemirror_mode": {
    "name": "ipython",
    "version": 2
   },
   "file_extension": ".py",
   "mimetype": "text/x-python",
   "name": "python",
   "nbconvert_exporter": "python",
   "pygments_lexer": "ipython2",
   "version": "2.7.14"
  }
 },
 "nbformat": 4,
 "nbformat_minor": 2
}
